{
 "cells": [
  {
   "cell_type": "code",
   "execution_count": 1,
   "metadata": {},
   "outputs": [],
   "source": [
    "import numpy as np\n",
    "import matplotlib.pyplot as plt\n",
    "import tensorflow as tf"
   ]
  },
  {
   "cell_type": "markdown",
   "metadata": {},
   "source": [
    "## Data generation"
   ]
  },
  {
   "cell_type": "code",
   "execution_count": 2,
   "metadata": {},
   "outputs": [],
   "source": [
    "observations = 100000\n",
    "\n",
    "xs = np.random.uniform(-10,10,size=(observations,1))\n",
    "zs = np.random.uniform(-10,10,size=(observations,1))\n",
    "\n",
    "generated_inputs = np.column_stack((xs,zs))\n",
    "\n",
    "noise = np.random.uniform(-1,1,size=(observations,1))\n",
    "\n",
    "generated_targets = 2*xs - 3*zs + 5 + noise\n",
    "\n",
    "np.savez(\"TF_intro\", inputs = generated_inputs, targets = generated_targets)"
   ]
  },
  {
   "cell_type": "markdown",
   "metadata": {},
   "source": [
    "## Solving with TensorFlow"
   ]
  },
  {
   "cell_type": "code",
   "execution_count": 3,
   "metadata": {},
   "outputs": [],
   "source": [
    "training_data = np.load(\"TF_intro.npz\")"
   ]
  },
  {
   "cell_type": "code",
   "execution_count": 4,
   "metadata": {},
   "outputs": [
    {
     "name": "stdout",
     "output_type": "stream",
     "text": [
      "Epoch 1/100\n",
      "3125/3125 - 2s - loss: 13.8843\n",
      "Epoch 2/100\n",
      "3125/3125 - 2s - loss: 7.7988\n",
      "Epoch 3/100\n",
      "3125/3125 - 2s - loss: 4.5310\n",
      "Epoch 4/100\n",
      "3125/3125 - 2s - loss: 3.9625\n",
      "Epoch 5/100\n",
      "3125/3125 - 2s - loss: 3.6470\n",
      "Epoch 6/100\n",
      "3125/3125 - 2s - loss: 3.3357\n",
      "Epoch 7/100\n",
      "3125/3125 - 2s - loss: 3.0248\n",
      "Epoch 8/100\n",
      "3125/3125 - 2s - loss: 2.7140\n",
      "Epoch 9/100\n",
      "3125/3125 - 2s - loss: 2.4034\n",
      "Epoch 10/100\n",
      "3125/3125 - 2s - loss: 2.0931\n",
      "Epoch 11/100\n",
      "3125/3125 - 2s - loss: 1.7830\n",
      "Epoch 12/100\n",
      "3125/3125 - 2s - loss: 1.4736\n",
      "Epoch 13/100\n",
      "3125/3125 - 2s - loss: 1.1696\n",
      "Epoch 14/100\n",
      "3125/3125 - 2s - loss: 0.8937\n",
      "Epoch 15/100\n",
      "3125/3125 - 2s - loss: 0.6669\n",
      "Epoch 16/100\n",
      "3125/3125 - 2s - loss: 0.4946\n",
      "Epoch 17/100\n",
      "3125/3125 - 2s - loss: 0.3727\n",
      "Epoch 18/100\n",
      "3125/3125 - 2s - loss: 0.2917\n",
      "Epoch 19/100\n",
      "3125/3125 - 2s - loss: 0.2404\n",
      "Epoch 20/100\n",
      "3125/3125 - 2s - loss: 0.2092\n",
      "Epoch 21/100\n",
      "3125/3125 - 2s - loss: 0.1908\n",
      "Epoch 22/100\n",
      "3125/3125 - 2s - loss: 0.1803\n",
      "Epoch 23/100\n",
      "3125/3125 - 2s - loss: 0.1743\n",
      "Epoch 24/100\n",
      "3125/3125 - 2s - loss: 0.1710\n",
      "Epoch 25/100\n",
      "3125/3125 - 2s - loss: 0.1691\n",
      "Epoch 26/100\n",
      "3125/3125 - 2s - loss: 0.1681\n",
      "Epoch 27/100\n",
      "3125/3125 - 2s - loss: 0.1676\n",
      "Epoch 28/100\n",
      "3125/3125 - 2s - loss: 0.1673\n",
      "Epoch 29/100\n",
      "3125/3125 - 2s - loss: 0.1671\n",
      "Epoch 30/100\n",
      "3125/3125 - 2s - loss: 0.1671\n",
      "Epoch 31/100\n",
      "3125/3125 - 2s - loss: 0.1670\n",
      "Epoch 32/100\n",
      "3125/3125 - 2s - loss: 0.1670\n",
      "Epoch 33/100\n",
      "3125/3125 - 2s - loss: 0.1670\n",
      "Epoch 34/100\n",
      "3125/3125 - 2s - loss: 0.1670\n",
      "Epoch 35/100\n",
      "3125/3125 - 2s - loss: 0.1670\n",
      "Epoch 36/100\n",
      "3125/3125 - 2s - loss: 0.1670\n",
      "Epoch 37/100\n",
      "3125/3125 - 2s - loss: 0.1670\n",
      "Epoch 38/100\n",
      "3125/3125 - 2s - loss: 0.1670\n",
      "Epoch 39/100\n",
      "3125/3125 - 2s - loss: 0.1670\n",
      "Epoch 40/100\n",
      "3125/3125 - 2s - loss: 0.1670\n",
      "Epoch 41/100\n",
      "3125/3125 - 2s - loss: 0.1670\n",
      "Epoch 42/100\n",
      "3125/3125 - 2s - loss: 0.1670\n",
      "Epoch 43/100\n",
      "3125/3125 - 2s - loss: 0.1670\n",
      "Epoch 44/100\n",
      "3125/3125 - 2s - loss: 0.1670\n",
      "Epoch 45/100\n",
      "3125/3125 - 2s - loss: 0.1670\n",
      "Epoch 46/100\n",
      "3125/3125 - 2s - loss: 0.1670\n",
      "Epoch 47/100\n",
      "3125/3125 - 2s - loss: 0.1670\n",
      "Epoch 48/100\n",
      "3125/3125 - 2s - loss: 0.1670\n",
      "Epoch 49/100\n",
      "3125/3125 - 2s - loss: 0.1670\n",
      "Epoch 50/100\n",
      "3125/3125 - 2s - loss: 0.1670\n",
      "Epoch 51/100\n",
      "3125/3125 - 2s - loss: 0.1670\n",
      "Epoch 52/100\n",
      "3125/3125 - 2s - loss: 0.1670\n",
      "Epoch 53/100\n",
      "3125/3125 - 2s - loss: 0.1670\n",
      "Epoch 54/100\n",
      "3125/3125 - 2s - loss: 0.1670\n",
      "Epoch 55/100\n",
      "3125/3125 - 2s - loss: 0.1670\n",
      "Epoch 56/100\n",
      "3125/3125 - 2s - loss: 0.1670\n",
      "Epoch 57/100\n",
      "3125/3125 - 2s - loss: 0.1670\n",
      "Epoch 58/100\n",
      "3125/3125 - 2s - loss: 0.1669\n",
      "Epoch 59/100\n",
      "3125/3125 - 2s - loss: 0.1670\n",
      "Epoch 60/100\n",
      "3125/3125 - 2s - loss: 0.1670\n",
      "Epoch 61/100\n",
      "3125/3125 - 2s - loss: 0.1670\n",
      "Epoch 62/100\n",
      "3125/3125 - 2s - loss: 0.1670\n",
      "Epoch 63/100\n",
      "3125/3125 - 2s - loss: 0.1670\n",
      "Epoch 64/100\n",
      "3125/3125 - 2s - loss: 0.1670\n",
      "Epoch 65/100\n",
      "3125/3125 - 2s - loss: 0.1670\n",
      "Epoch 66/100\n",
      "3125/3125 - 2s - loss: 0.1670\n",
      "Epoch 67/100\n",
      "3125/3125 - 2s - loss: 0.1670\n",
      "Epoch 68/100\n",
      "3125/3125 - 2s - loss: 0.1670\n",
      "Epoch 69/100\n",
      "3125/3125 - 2s - loss: 0.1670\n",
      "Epoch 70/100\n",
      "3125/3125 - 2s - loss: 0.1669\n",
      "Epoch 71/100\n",
      "3125/3125 - 2s - loss: 0.1670\n",
      "Epoch 72/100\n",
      "3125/3125 - 2s - loss: 0.1670\n",
      "Epoch 73/100\n",
      "3125/3125 - 2s - loss: 0.1670\n",
      "Epoch 74/100\n",
      "3125/3125 - 2s - loss: 0.1670\n",
      "Epoch 75/100\n",
      "3125/3125 - 2s - loss: 0.1670\n",
      "Epoch 76/100\n",
      "3125/3125 - 2s - loss: 0.1670\n",
      "Epoch 77/100\n",
      "3125/3125 - 2s - loss: 0.1670\n",
      "Epoch 78/100\n",
      "3125/3125 - 2s - loss: 0.1670\n",
      "Epoch 79/100\n",
      "3125/3125 - 2s - loss: 0.1670\n",
      "Epoch 80/100\n",
      "3125/3125 - 2s - loss: 0.1670\n",
      "Epoch 81/100\n",
      "3125/3125 - 2s - loss: 0.1670\n",
      "Epoch 82/100\n",
      "3125/3125 - 2s - loss: 0.1670\n",
      "Epoch 83/100\n",
      "3125/3125 - 2s - loss: 0.1670\n",
      "Epoch 84/100\n",
      "3125/3125 - 2s - loss: 0.1670\n",
      "Epoch 85/100\n",
      "3125/3125 - 2s - loss: 0.1670\n",
      "Epoch 86/100\n",
      "3125/3125 - 2s - loss: 0.1670\n",
      "Epoch 87/100\n",
      "3125/3125 - 2s - loss: 0.1670\n",
      "Epoch 88/100\n",
      "3125/3125 - 2s - loss: 0.1670\n",
      "Epoch 89/100\n",
      "3125/3125 - 2s - loss: 0.1669\n",
      "Epoch 90/100\n",
      "3125/3125 - 2s - loss: 0.1670\n",
      "Epoch 91/100\n",
      "3125/3125 - 2s - loss: 0.1670\n",
      "Epoch 92/100\n",
      "3125/3125 - 2s - loss: 0.1670\n",
      "Epoch 93/100\n",
      "3125/3125 - 2s - loss: 0.1670\n",
      "Epoch 94/100\n",
      "3125/3125 - 2s - loss: 0.1670\n",
      "Epoch 95/100\n",
      "3125/3125 - 2s - loss: 0.1670\n",
      "Epoch 96/100\n",
      "3125/3125 - 2s - loss: 0.1670\n",
      "Epoch 97/100\n",
      "3125/3125 - 2s - loss: 0.1670\n",
      "Epoch 98/100\n",
      "3125/3125 - 2s - loss: 0.1670\n",
      "Epoch 99/100\n",
      "3125/3125 - 2s - loss: 0.1670\n",
      "Epoch 100/100\n",
      "3125/3125 - 2s - loss: 0.1669\n"
     ]
    },
    {
     "data": {
      "text/plain": [
       "<tensorflow.python.keras.callbacks.History at 0x20fbed84d08>"
      ]
     },
     "execution_count": 4,
     "metadata": {},
     "output_type": "execute_result"
    }
   ],
   "source": [
    "input_size = 2\n",
    "output_size = 1\n",
    "\n",
    "model = tf.keras.Sequential([\n",
    "    tf.keras.layers.Dense(output_size,\n",
    "                          kernel_initializer = tf.random_uniform_initializer(minval=-0.1,maxval=0.1),\n",
    "                          bias_initializer = tf.random_uniform_initializer(minval=-0.1,maxval=0.1)\n",
    "                         )\n",
    "])\n",
    "\n",
    "custom_optimizer = tf.keras.optimizers.SGD(learning_rate = 0.0001)\n",
    "\n",
    "model.compile(optimizer=custom_optimizer,loss=\"huber_loss\")\n",
    "\n",
    "model.fit(training_data[\"inputs\"], training_data[\"targets\"],epochs=100, verbose=2)"
   ]
  },
  {
   "cell_type": "markdown",
   "metadata": {},
   "source": [
    "## Extract weights and bias"
   ]
  },
  {
   "cell_type": "code",
   "execution_count": 5,
   "metadata": {},
   "outputs": [],
   "source": [
    "weights = model.layers[0].get_weights()[0]\n",
    "bias = model.layers[0].get_weights()[1]"
   ]
  },
  {
   "cell_type": "code",
   "execution_count": 6,
   "metadata": {},
   "outputs": [
    {
     "name": "stdout",
     "output_type": "stream",
     "text": [
      "[[ 2.001943]\n",
      " [-2.999615]]\n",
      "[5.0007668]\n"
     ]
    }
   ],
   "source": [
    "print(weights)\n",
    "print(bias)"
   ]
  },
  {
   "cell_type": "markdown",
   "metadata": {},
   "source": [
    "## Extract the outputs (make predictions)"
   ]
  },
  {
   "cell_type": "code",
   "execution_count": 7,
   "metadata": {},
   "outputs": [
    {
     "data": {
      "text/plain": [
       "array([[ 37.5],\n",
       "       [ 46.8],\n",
       "       [ 41.6],\n",
       "       ...,\n",
       "       [-19.2],\n",
       "       [ 14.3],\n",
       "       [ 11.9]], dtype=float32)"
      ]
     },
     "execution_count": 7,
     "metadata": {},
     "output_type": "execute_result"
    }
   ],
   "source": [
    "model.predict_on_batch(training_data[\"inputs\"]).round(1)"
   ]
  },
  {
   "cell_type": "code",
   "execution_count": 8,
   "metadata": {},
   "outputs": [
    {
     "data": {
      "text/plain": [
       "array([[ 37.2],\n",
       "       [ 46.1],\n",
       "       [ 41.5],\n",
       "       ...,\n",
       "       [-19.1],\n",
       "       [ 13.4],\n",
       "       [ 11.7]])"
      ]
     },
     "execution_count": 8,
     "metadata": {},
     "output_type": "execute_result"
    }
   ],
   "source": [
    "training_data[\"targets\"].round(1)"
   ]
  },
  {
   "cell_type": "code",
   "execution_count": null,
   "metadata": {},
   "outputs": [],
   "source": []
  },
  {
   "cell_type": "markdown",
   "metadata": {},
   "source": [
    "## Plotting the data"
   ]
  },
  {
   "cell_type": "code",
   "execution_count": 9,
   "metadata": {},
   "outputs": [
    {
     "data": {
      "image/png": "[encoded data removed]",
      "text/plain": [
       "<Figure size 432x288 with 1 Axes>"
      ]
     },
     "metadata": {
      "needs_background": "light"
     },
     "output_type": "display_data"
    }
   ],
   "source": [
    "plt.plot(np.squeeze(model.predict_on_batch(training_data[\"inputs\"])), np.squeeze(training_data[\"targets\"]))\n",
    "plt.xlabel(\"outputs\")\n",
    "plt.ylabel(\"targets\")\n",
    "plt.show()"
   ]
  },
  {
   "cell_type": "code",
   "execution_count": null,
   "metadata": {},
   "outputs": [],
   "source": []
  }
 ],
 "metadata": {
  "kernelspec": {
   "display_name": "Python [conda env:py3-TF2.0]",
   "language": "python",
   "name": "conda-env-py3-TF2.0-py"
  },
  "language_info": {
   "codemirror_mode": {
    "name": "ipython",
    "version": 3
   },
   "file_extension": ".py",
   "mimetype": "text/x-python",
   "name": "python",
   "nbconvert_exporter": "python",
   "pygments_lexer": "ipython3",
   "version": "3.7.7"
  }
 },
 "nbformat": 4,
 "nbformat_minor": 4
}
