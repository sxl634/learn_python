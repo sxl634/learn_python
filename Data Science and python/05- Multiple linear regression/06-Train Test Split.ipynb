{
 "cells": [
  {
   "cell_type": "code",
   "execution_count": 1,
   "metadata": {},
   "outputs": [],
   "source": [
    "import numpy as np\n",
    "from sklearn.model_selection import train_test_split"
   ]
  },
  {
   "cell_type": "code",
   "execution_count": 2,
   "metadata": {},
   "outputs": [],
   "source": [
    "#Generate data to split"
   ]
  },
  {
   "cell_type": "code",
   "execution_count": 3,
   "metadata": {},
   "outputs": [],
   "source": [
    "a = np.arange(1,101)"
   ]
  },
  {
   "cell_type": "code",
   "execution_count": 4,
   "metadata": {},
   "outputs": [
    {
     "data": {
      "text/plain": [
       "array([  1,   2,   3,   4,   5,   6,   7,   8,   9,  10,  11,  12,  13,\n",
       "        14,  15,  16,  17,  18,  19,  20,  21,  22,  23,  24,  25,  26,\n",
       "        27,  28,  29,  30,  31,  32,  33,  34,  35,  36,  37,  38,  39,\n",
       "        40,  41,  42,  43,  44,  45,  46,  47,  48,  49,  50,  51,  52,\n",
       "        53,  54,  55,  56,  57,  58,  59,  60,  61,  62,  63,  64,  65,\n",
       "        66,  67,  68,  69,  70,  71,  72,  73,  74,  75,  76,  77,  78,\n",
       "        79,  80,  81,  82,  83,  84,  85,  86,  87,  88,  89,  90,  91,\n",
       "        92,  93,  94,  95,  96,  97,  98,  99, 100])"
      ]
     },
     "execution_count": 4,
     "metadata": {},
     "output_type": "execute_result"
    }
   ],
   "source": [
    "a"
   ]
  },
  {
   "cell_type": "code",
   "execution_count": 5,
   "metadata": {},
   "outputs": [],
   "source": [
    "b = np.arange(501,601)"
   ]
  },
  {
   "cell_type": "code",
   "execution_count": 6,
   "metadata": {},
   "outputs": [
    {
     "data": {
      "text/plain": [
       "array([501, 502, 503, 504, 505, 506, 507, 508, 509, 510, 511, 512, 513,\n",
       "       514, 515, 516, 517, 518, 519, 520, 521, 522, 523, 524, 525, 526,\n",
       "       527, 528, 529, 530, 531, 532, 533, 534, 535, 536, 537, 538, 539,\n",
       "       540, 541, 542, 543, 544, 545, 546, 547, 548, 549, 550, 551, 552,\n",
       "       553, 554, 555, 556, 557, 558, 559, 560, 561, 562, 563, 564, 565,\n",
       "       566, 567, 568, 569, 570, 571, 572, 573, 574, 575, 576, 577, 578,\n",
       "       579, 580, 581, 582, 583, 584, 585, 586, 587, 588, 589, 590, 591,\n",
       "       592, 593, 594, 595, 596, 597, 598, 599, 600])"
      ]
     },
     "execution_count": 6,
     "metadata": {},
     "output_type": "execute_result"
    }
   ],
   "source": [
    "b"
   ]
  },
  {
   "cell_type": "code",
   "execution_count": 7,
   "metadata": {},
   "outputs": [],
   "source": [
    "#Split the data"
   ]
  },
  {
   "cell_type": "code",
   "execution_count": 8,
   "metadata": {},
   "outputs": [
    {
     "data": {
      "text/plain": [
       "[array([ 17,  49,  90,   3,  72,  12,  29,  50,   5,  87,  62,  77,  23,\n",
       "         28,  31,  51,   4,  54,   1,   6,  47,  64,  95,  52,  94,  57,\n",
       "         40,  79,  78,  16,  21,  35,  25,  27,  83,   2,  81,  42,  63,\n",
       "         11,  19,  73,  91, 100,  38,  66,  55,  45,  88,  26,  43,  85,\n",
       "         14,  53,  36,  10,  48,  99,  65,  86,  59,  96,  58,  39,   8,\n",
       "         92,  20,  15,  89,  46,  61,  41,  93,  22,  56]),\n",
       " array([24, 32, 18, 34, 44, 67, 33,  9, 71, 74, 75, 69,  7, 98, 82, 60, 76,\n",
       "        37, 80, 68, 84, 13, 30, 70, 97])]"
      ]
     },
     "execution_count": 8,
     "metadata": {},
     "output_type": "execute_result"
    }
   ],
   "source": [
    "train_test_split(a)"
   ]
  },
  {
   "cell_type": "code",
   "execution_count": 44,
   "metadata": {},
   "outputs": [],
   "source": [
    "a_train,a_test,b_train,b_test = train_test_split(a,b, test_size = 0.2, random_state=41)#, shuffle=False)"
   ]
  },
  {
   "cell_type": "code",
   "execution_count": 45,
   "metadata": {},
   "outputs": [
    {
     "data": {
      "text/plain": [
       "((80,), (20,), (80,), (20,))"
      ]
     },
     "execution_count": 45,
     "metadata": {},
     "output_type": "execute_result"
    }
   ],
   "source": [
    "a_train.shape, a_test.shape, b_train.shape, b_test.shape"
   ]
  },
  {
   "cell_type": "code",
   "execution_count": 41,
   "metadata": {},
   "outputs": [
    {
     "data": {
      "text/plain": [
       "array([ 87,  49,  50, 100,  42,  19,  88,  41,  92,  68,   8,  64,  12,\n",
       "        77,  84,  30,  91,  67,  16,  83,  82,  63,  97,  10,  15,  96,\n",
       "        70,  39,  11,   9,  48,  78,  22,  32,  31,  44,  37,  46,  47,\n",
       "        74,  23,  45,  75,  40,   6,  21,  72,  89,  98,   2,  60,   5,\n",
       "        59,  35,  93,  14,  20,  54,  29,  18,  56,  53,  76,  52,  62,\n",
       "        85,  71,  51,  99,   4,  57,  27,  86,  24,  90,  66,  81,  13,\n",
       "        36,  65])"
      ]
     },
     "execution_count": 41,
     "metadata": {},
     "output_type": "execute_result"
    }
   ],
   "source": [
    "a_train"
   ]
  },
  {
   "cell_type": "code",
   "execution_count": 46,
   "metadata": {},
   "outputs": [
    {
     "data": {
      "text/plain": [
       "array([43, 95, 38,  7, 80, 33, 25,  1, 34, 94, 69, 61, 58,  3, 55, 73, 79,\n",
       "       17, 26, 28])"
      ]
     },
     "execution_count": 46,
     "metadata": {},
     "output_type": "execute_result"
    }
   ],
   "source": [
    "a_test"
   ]
  },
  {
   "cell_type": "code",
   "execution_count": 47,
   "metadata": {},
   "outputs": [
    {
     "data": {
      "text/plain": [
       "array([587, 549, 550, 600, 542, 519, 588, 541, 592, 568, 508, 564, 512,\n",
       "       577, 584, 530, 591, 567, 516, 583, 582, 563, 597, 510, 515, 596,\n",
       "       570, 539, 511, 509, 548, 578, 522, 532, 531, 544, 537, 546, 547,\n",
       "       574, 523, 545, 575, 540, 506, 521, 572, 589, 598, 502, 560, 505,\n",
       "       559, 535, 593, 514, 520, 554, 529, 518, 556, 553, 576, 552, 562,\n",
       "       585, 571, 551, 599, 504, 557, 527, 586, 524, 590, 566, 581, 513,\n",
       "       536, 565])"
      ]
     },
     "execution_count": 47,
     "metadata": {},
     "output_type": "execute_result"
    }
   ],
   "source": [
    "b_train"
   ]
  },
  {
   "cell_type": "code",
   "execution_count": 48,
   "metadata": {},
   "outputs": [
    {
     "data": {
      "text/plain": [
       "array([543, 595, 538, 507, 580, 533, 525, 501, 534, 594, 569, 561, 558,\n",
       "       503, 555, 573, 579, 517, 526, 528])"
      ]
     },
     "execution_count": 48,
     "metadata": {},
     "output_type": "execute_result"
    }
   ],
   "source": [
    "b_test"
   ]
  },
  {
   "cell_type": "code",
   "execution_count": null,
   "metadata": {},
   "outputs": [],
   "source": []
  }
 ],
 "metadata": {
  "kernelspec": {
   "display_name": "Python 3",
   "language": "python",
   "name": "python3"
  },
  "language_info": {
   "codemirror_mode": {
    "name": "ipython",
    "version": 3
   },
   "file_extension": ".py",
   "mimetype": "text/x-python",
   "name": "python",
   "nbconvert_exporter": "python",
   "pygments_lexer": "ipython3",
   "version": "3.7.6"
  }
 },
 "nbformat": 4,
 "nbformat_minor": 4
}
