{
 "cells": [
  {
   "cell_type": "code",
   "execution_count": 4,
   "metadata": {},
   "outputs": [],
   "source": [
    "game_list = [0,1,2]"
   ]
  },
  {
   "cell_type": "code",
   "execution_count": 1,
   "metadata": {},
   "outputs": [],
   "source": [
    "def display_game(game_list):\n",
    "    print(\"Here is the current list: \")\n",
    "    print(game_list)"
   ]
  },
  {
   "cell_type": "code",
   "execution_count": 6,
   "metadata": {},
   "outputs": [
    {
     "name": "stdout",
     "output_type": "stream",
     "text": [
      "Here is the current list: \n",
      "[0, 1, 2]\n"
     ]
    }
   ],
   "source": [
    "display_game(game_list)"
   ]
  },
  {
   "cell_type": "code",
   "execution_count": 2,
   "metadata": {},
   "outputs": [],
   "source": [
    "def position_choice():\n",
    "    choice = \" \"\n",
    "    \n",
    "    while choice not in [\"0\",\"1\",\"2\"]:\n",
    "        choice = input(\"Pick a position (0,1,2): \")\n",
    "        if choice not in [\"0\",\"1\",\"2\"]:\n",
    "            print(\"Sorry, invalid choice!\")\n",
    "    \n",
    "    return int(choice)"
   ]
  },
  {
   "cell_type": "code",
   "execution_count": 8,
   "metadata": {},
   "outputs": [
    {
     "name": "stdout",
     "output_type": "stream",
     "text": [
      "Pick a position (0,1,2): 4\n",
      "Sorry, invali choice!\n",
      "Pick a position (0,1,2): a\n",
      "Sorry, invali choice!\n",
      "Pick a position (0,1,2): 2\n"
     ]
    },
    {
     "data": {
      "text/plain": [
       "2"
      ]
     },
     "execution_count": 8,
     "metadata": {},
     "output_type": "execute_result"
    }
   ],
   "source": [
    "position_choice()"
   ]
  },
  {
   "cell_type": "code",
   "execution_count": 3,
   "metadata": {},
   "outputs": [],
   "source": [
    "def replacement_choice(game_list, position):\n",
    "    user_placement = input(\"Type a string to place at position: \")\n",
    "    game_list[position] = user_placement\n",
    "    return game_list"
   ]
  },
  {
   "cell_type": "code",
   "execution_count": 4,
   "metadata": {},
   "outputs": [],
   "source": [
    "def gameon_choice():\n",
    "    choice = \" \"\n",
    "    \n",
    "    while choice not in [\"N\",\"Y\",\"y\",\"n\"]:\n",
    "        choice = input(\"Keep playing? (Y, N): \")\n",
    "        if choice not in [\"N\",\"Y\",\"y\",\"n\"]:\n",
    "            print(\"Sorry, I don't understand, please choose Y or N \")\n",
    "        \n",
    "    if choice == \"Y\" or choice ==\"y\":\n",
    "        return True\n",
    "    else:\n",
    "        return False\n",
    "    \n",
    "    "
   ]
  },
  {
   "cell_type": "code",
   "execution_count": 12,
   "metadata": {},
   "outputs": [
    {
     "name": "stdout",
     "output_type": "stream",
     "text": [
      "Keep playing? (Y, N): asdf\n",
      "Sorry, I don't understand, please choose Y or N \n",
      "Keep playing? (Y, N): asfd\n",
      "Sorry, I don't understand, please choose Y or N \n",
      "Keep playing? (Y, N): Y\n"
     ]
    },
    {
     "data": {
      "text/plain": [
       "True"
      ]
     },
     "execution_count": 12,
     "metadata": {},
     "output_type": "execute_result"
    }
   ],
   "source": [
    "gameon_choice()"
   ]
  },
  {
   "cell_type": "code",
   "execution_count": 5,
   "metadata": {},
   "outputs": [
    {
     "name": "stdout",
     "output_type": "stream",
     "text": [
      "Here is the current list: \n",
      "[0, 1, 2]\n",
      "Pick a position (0,1,2): 0\n",
      "Type a string to place at position: Hello\n",
      "Here is the current list: \n",
      "['Hello', 1, 2]\n",
      "Keep playing? (Y, N): y\n",
      "Here is the current list: \n",
      "['Hello', 1, 2]\n",
      "Pick a position (0,1,2): 1\n",
      "Type a string to place at position: Goodbye\n",
      "Here is the current list: \n",
      "['Hello', 'Goodbye', 2]\n",
      "Keep playing? (Y, N): n\n"
     ]
    }
   ],
   "source": [
    "game_on = True\n",
    "game_list = [0,1,2]\n",
    "\n",
    "while game_on:\n",
    "    display_game(game_list)\n",
    "    position = position_choice()\n",
    "    game_list = replacement_choice(game_list, position)\n",
    "    display_game(game_list)\n",
    "    game_on=gameon_choice()"
   ]
  },
  {
   "cell_type": "code",
   "execution_count": null,
   "metadata": {},
   "outputs": [],
   "source": []
  }
 ],
 "metadata": {
  "kernelspec": {
   "display_name": "Python 3",
   "language": "python",
   "name": "python3"
  },
  "language_info": {
   "codemirror_mode": {
    "name": "ipython",
    "version": 3
   },
   "file_extension": ".py",
   "mimetype": "text/x-python",
   "name": "python",
   "nbconvert_exporter": "python",
   "pygments_lexer": "ipython3",
   "version": "3.7.6"
  }
 },
 "nbformat": 4,
 "nbformat_minor": 4
}
