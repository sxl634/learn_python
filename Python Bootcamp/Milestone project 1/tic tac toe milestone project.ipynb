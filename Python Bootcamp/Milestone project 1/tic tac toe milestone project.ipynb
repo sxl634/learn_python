{
 "cells": [
  {
   "cell_type": "code",
   "execution_count": 13,
   "metadata": {},
   "outputs": [],
   "source": [
    "def display_board(move_dict):\n",
    "    print(\"   |   |   \")\n",
    "    print(f\" {move_dict['7']} | {move_dict['8']} | {move_dict['9']} \")\n",
    "    print(\"   |   |   \")\n",
    "    print(\"-----------\")\n",
    "    print(\"   |   |   \")\n",
    "    print(f\" {move_dict['4']} | {move_dict['5']} | {move_dict['6']} \")\n",
    "    print(\"   |   |   \")\n",
    "    print(\"-----------\")\n",
    "    print(\"   |   |   \")\n",
    "    print(f\" {move_dict['1']} | {move_dict['2']} | {move_dict['3']} \")\n",
    "    print(\"   |   |   \")"
   ]
  },
  {
   "cell_type": "code",
   "execution_count": 14,
   "metadata": {},
   "outputs": [],
   "source": [
    "def valid_move(move_dict, position):\n",
    "    return move_dict[position] == \" \"  "
   ]
  },
  {
   "cell_type": "code",
   "execution_count": 15,
   "metadata": {},
   "outputs": [],
   "source": [
    "def make_move(move_dict, player_dict, player):\n",
    "    move = \" \"\n",
    "    while (move not in [\"1\",\"2\",\"3\",\"4\",\"5\",\"6\",\"7\",\"8\",\"9\"]) or (valid_move(move_dict, move)==False):\n",
    "        move = input(f\"Player {player}, choose your next position: (1-9) \")\n",
    "        if move not in [\"1\",\"2\",\"3\",\"4\",\"5\",\"6\",\"7\",\"8\",\"9\"]:\n",
    "            print(\"Not a valid position\")\n",
    "        elif valid_move(move_dict, move)==False:\n",
    "            print(\"This square has already been taken\")\n",
    "    move_dict[move] = player_dict[player]\n",
    "    return move_dict"
   ]
  },
  {
   "cell_type": "code",
   "execution_count": 16,
   "metadata": {},
   "outputs": [],
   "source": [
    "def is_game_won(move_dict):\n",
    "    #checks if someone has won the game or if the board has filled up\n",
    "    if (move_dict[\"1\"]==move_dict[\"2\"]==move_dict[\"3\"]!=\" \") or (move_dict[\"7\"]==move_dict[\"4\"]==move_dict[\"1\"]!=\" \"):\n",
    "        return 1\n",
    "    elif (move_dict[\"4\"]==move_dict[\"5\"]==move_dict[\"6\"]!=\" \") or (move_dict[\"8\"]==move_dict[\"5\"]==move_dict[\"2\"]!=\" \"):\n",
    "        return 2\n",
    "    elif (move_dict[\"7\"]==move_dict[\"8\"]==move_dict[\"9\"]!=\" \") or (move_dict[\"9\"]==move_dict[\"6\"]==move_dict[\"3\"]!=\" \"):\n",
    "        return 3\n",
    "    elif (move_dict[\"7\"]==move_dict[\"5\"]==move_dict[\"3\"]!=\" \") or (move_dict[\"9\"]==move_dict[\"5\"]==move_dict[\"1\"]!=\" \"):\n",
    "        return 4\n",
    "    elif (len(list(filter(lambda move: move_dict[move] == \" \", move_dict)))) == 0: # if board filled up\n",
    "        return 5\n",
    "    else:\n",
    "        return 0"
   ]
  },
  {
   "cell_type": "code",
   "execution_count": 5,
   "metadata": {},
   "outputs": [],
   "source": [
    "def who_won(game_won, move_dict, player_dict):\n",
    "    #checks who has won the game or if there is a draw and ouputs a message\n",
    "    move_check = \"\"\n",
    "    if game_won == 1:\n",
    "        move_check = \"1\"\n",
    "    elif game_won == 2 or game_won == 4:\n",
    "        move_check = \"5\"\n",
    "    elif game_won == 3:\n",
    "        move_check = \"9\"\n",
    "    else:\n",
    "        return \"This was a draw!\"\n",
    "    if(player_dict[\"1\"]==move_dict[move_check]):\n",
    "        return \"Player 1 won! Congratulations\"\n",
    "    else:\n",
    "        return \"Player 2 won! Congratulations\""
   ]
  },
  {
   "cell_type": "code",
   "execution_count": 17,
   "metadata": {},
   "outputs": [],
   "source": [
    "def choice(player_dict):\n",
    "    player_choice = \" \"\n",
    "    player_dict = {}\n",
    "    while player_choice not in [\"X\",\"O\"]:\n",
    "        player_choice = input(\"Player 1: Do you want to be X or O? \").capitalize()\n",
    "        if player_choice not in [\"X\",\"O\"]:\n",
    "            print(\"invalid selection\")\n",
    "    if player_choice.upper()==\"X\":\n",
    "        player_dict[\"1\"] = \"X\"\n",
    "        player_dict[\"2\"] = \"O\"\n",
    "    else:\n",
    "        player_dict[\"2\"] = \"X\"\n",
    "        player_dict[\"1\"] = \"O\"\n",
    "    return player_dict\n",
    "    "
   ]
  },
  {
   "cell_type": "code",
   "execution_count": 12,
   "metadata": {},
   "outputs": [],
   "source": [
    "def yes_or_no(message):\n",
    "    choice = \" \"\n",
    "    while choice not in [\"Yes\", \"No\", \"Y\", \"N\"]:\n",
    "        choice = input(f\"{message}? Enter Yes or No: \").capitalize()\n",
    "        if choice not in [\"Yes\", \"No\", \"Y\", \"N\"]:\n",
    "            print(\"Invalid selection\")\n",
    "        if message ==\"Do you want to play again\" and choice in [\"Yes\", \"Y\"]:\n",
    "            clear_output()\n",
    "    return choice in [\"Yes\", \"Y\"]"
   ]
  },
  {
   "cell_type": "code",
   "execution_count": 11,
   "metadata": {},
   "outputs": [
    {
     "name": "stdout",
     "output_type": "stream",
     "text": [
      "   |   |   \n",
      "   |   |   \n",
      "   |   |   \n",
      "-----------\n",
      "   |   |   \n",
      "   | O | O \n",
      "   |   |   \n",
      "-----------\n",
      "   |   |   \n",
      " X | X | X \n",
      "   |   |   \n",
      "Player 1 won! Congratulations\n",
      "Do you want to play again? Enter Yes or No: n\n"
     ]
    }
   ],
   "source": [
    "import time\n",
    "from IPython.display import clear_output\n",
    "\n",
    "print(\"Welcome to Tic Tac Toe\")\n",
    "while play_again == True:\n",
    "    move_dict = {\"1\":\" \",\"2\":\" \",\"3\":\" \",\"4\":\" \",\"5\":\" \",\"6\":\" \",\"7\":\" \",\"8\":\" \",\"9\":\" \"} # initial board setup\n",
    "    game_won = 0 #indicates whether game is won, 0 indicates game ongoing\n",
    "    player = 0 # which player is set to go\n",
    "    play_again = True\n",
    "    ready = False\n",
    "    time.sleep(0.03)\n",
    "    player_dict = choice(player_dict)\n",
    "\n",
    "    if player_dict[\"1\"] ==\"X\":\n",
    "        player = 1\n",
    "    else:\n",
    "        player = 2\n",
    "\n",
    "    print(f\"Player {player} will go first\")\n",
    "    \n",
    "    while ready == False:\n",
    "        ready = yes_or_no(\"Are you ready to play\")\n",
    "        \n",
    "    while game_won ==0:\n",
    "        display_board(move_dict)\n",
    "        make_move(move_dict, player_dict, str(player))\n",
    "        if player ==1:\n",
    "            player += 1\n",
    "        else:\n",
    "            player -=1\n",
    "        game_won = is_game_won(move_dict)\n",
    "        clear_output()\n",
    "\n",
    "    display_board(move_dict)    \n",
    "    print(who_won(game_won, move_dict, player_dict))\n",
    "    time.sleep(0.03)\n",
    "    play_again = yes_or_no(\"Do you want to play again\")"
   ]
  },
  {
   "cell_type": "code",
   "execution_count": null,
   "metadata": {},
   "outputs": [],
   "source": []
  }
 ],
 "metadata": {
  "kernelspec": {
   "display_name": "Python 3",
   "language": "python",
   "name": "python3"
  },
  "language_info": {
   "codemirror_mode": {
    "name": "ipython",
    "version": 3
   },
   "file_extension": ".py",
   "mimetype": "text/x-python",
   "name": "python",
   "nbconvert_exporter": "python",
   "pygments_lexer": "ipython3",
   "version": "3.7.6"
  }
 },
 "nbformat": 4,
 "nbformat_minor": 4
}
