{
 "cells": [
  {
   "cell_type": "code",
   "execution_count": 21,
   "metadata": {},
   "outputs": [],
   "source": [
    "import os\n",
    "import shutil\n",
    "import re"
   ]
  },
  {
   "cell_type": "code",
   "execution_count": 22,
   "metadata": {},
   "outputs": [],
   "source": [
    "start_search = \"C:\\\\Users\\\\slong\\\\OneDrive\\\\Desktop\\\\Python\\\\Python Bootcamp\\\\Advanced Python Modules\\\\advanced_modules_exercise_instructions\\\\extracted_content\""
   ]
  },
  {
   "cell_type": "code",
   "execution_count": 30,
   "metadata": {},
   "outputs": [
    {
     "name": "stdout",
     "output_type": "stream",
     "text": [
      "The phone number 719-266-2837 was found in the file C:\\Users\\slong\\OneDrive\\Desktop\\Python\\Python Bootcamp\\Advanced Python Modules\\advanced_modules_exercise_instructions\\extracted_content\\Four\\EMTGPSXQEJX.txt \n"
     ]
    }
   ],
   "source": [
    "for folder, sub_folders, files in os.walk(start_search):\n",
    "    for f in files:\n",
    "        filepath = folder + \"\\\\\" + f\n",
    "        check = open(filepath,\"r\")\n",
    "        text = check.read()\n",
    "        matches = re.findall(r\"\\d{3}-\\d{3}-\\d{4}\",text)\n",
    "        if len(matches) > 0:\n",
    "            phone_file = filepath\n",
    "            break\n",
    "        check.close()\n",
    "    if len(matches) > 0:\n",
    "        break\n",
    "print(f\"The phone number {matches[0]} was found in the file {phone_file} \")"
   ]
  },
  {
   "cell_type": "code",
   "execution_count": 14,
   "metadata": {},
   "outputs": [
    {
     "data": {
      "text/plain": [
       "'C:\\\\Users\\\\slong\\\\OneDrive\\\\Desktop\\\\Python\\\\Python Bootcamp\\\\Advanced Python Modules\\\\advanced_modules_exercise_instructions'"
      ]
     },
     "execution_count": 14,
     "metadata": {},
     "output_type": "execute_result"
    }
   ],
   "source": [
    "pwd"
   ]
  },
  {
   "cell_type": "code",
   "execution_count": null,
   "metadata": {},
   "outputs": [],
   "source": []
  }
 ],
 "metadata": {
  "kernelspec": {
   "display_name": "Python 3",
   "language": "python",
   "name": "python3"
  },
  "language_info": {
   "codemirror_mode": {
    "name": "ipython",
    "version": 3
   },
   "file_extension": ".py",
   "mimetype": "text/x-python",
   "name": "python",
   "nbconvert_exporter": "python",
   "pygments_lexer": "ipython3",
   "version": "3.7.6"
  }
 },
 "nbformat": 4,
 "nbformat_minor": 4
}
