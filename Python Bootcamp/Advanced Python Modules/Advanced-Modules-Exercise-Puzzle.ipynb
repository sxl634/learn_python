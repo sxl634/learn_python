{
 "cells": [
  {
   "cell_type": "markdown",
   "metadata": {},
   "source": [
    "___\n",
    "\n",
    "<a href='https://www.udemy.com/user/joseportilla/'><img src='../../Pierian_Data_Logo.png'/></a>\n",
    "___\n",
    "<center><em>Content Copyright by Pierian Data</em></center>"
   ]
  },
  {
   "cell_type": "markdown",
   "metadata": {},
   "source": [
    "# Advanced Modules Exercise Puzzle\n",
    "\n",
    "It's time to test your new skills, this puzzle project will combine multiple skills sets, including unzipping files with Python, using os module to automatically search through lots of files.\n",
    "\n",
    "## Your Goal\n",
    "\n",
    "This is a puzzle, so we don't want to give you too much guidance and instead have you figure out things on your own.\n",
    "\n",
    "There is a .zip file called 'unzip_me_for_instructions.zip', unzip it, open the .txt file with Python, read the instructions and see if you can figure out what you need to do!\n",
    "\n",
    "**If you get stuck or don't know where to start, here is a [guide/hints](https://docs.google.com/document/d/1JxydUr4n4fSR0EwwuwT-aHia-yPK6r-oTBuVT2sqheo/edit?usp=sharing)**"
   ]
  },
  {
   "cell_type": "code",
   "execution_count": 1,
   "metadata": {},
   "outputs": [],
   "source": [
    "import shutil"
   ]
  },
  {
   "cell_type": "code",
   "execution_count": 2,
   "metadata": {},
   "outputs": [
    {
     "data": {
      "text/plain": [
       "'C:\\\\Users\\\\slong\\\\OneDrive\\\\Desktop\\\\Python\\\\Python Bootcamp\\\\Advanced Python Modules'"
      ]
     },
     "execution_count": 2,
     "metadata": {},
     "output_type": "execute_result"
    }
   ],
   "source": [
    "pwd"
   ]
  },
  {
   "cell_type": "code",
   "execution_count": 4,
   "metadata": {},
   "outputs": [],
   "source": [
    "output_filename = \"advanced_modules_exercise_instructions\""
   ]
  },
  {
   "cell_type": "code",
   "execution_count": 5,
   "metadata": {},
   "outputs": [
    {
     "name": "stdout",
     "output_type": "stream",
     "text": [
      " Volume in drive C is OS\n",
      " Volume Serial Number is 047C-3413\n",
      "\n",
      " Directory of C:\\Users\\slong\\OneDrive\\Desktop\\Python\\Python Bootcamp\\Advanced Python Modules\n",
      "\n",
      "01/07/2020  11:26    <DIR>          .\n",
      "01/07/2020  11:26    <DIR>          ..\n",
      "01/07/2020  11:26    <DIR>          .ipynb_checkpoints\n",
      "01/07/2020  11:26             1,631 Advanced-Modules-Exercise-Puzzle.ipynb\n",
      "30/06/2020  11:09             8,532 Collections.ipynb\n",
      "01/07/2020  11:14               238 comp_file.zip\n",
      "30/06/2020  13:19             5,438 Datetime.ipynb\n",
      "30/06/2020  13:55             1,530 Debugging.ipynb\n",
      "01/07/2020  11:18               238 example.zip\n",
      "01/07/2020  11:16    <DIR>          extracted_content\n",
      "01/07/2020  11:12                 8 fileone.txt\n",
      "01/07/2020  11:12                 8 filetwo.txt\n",
      "01/07/2020  11:20    <DIR>          final_unzip\n",
      "30/06/2020  13:51            10,134 Math and Random.ipynb\n",
      "30/06/2020  11:50            32,414 Python OS Module open and read files and folders.ipynb\n",
      "01/07/2020  10:52            34,744 Regular expressions.ipynb\n",
      "01/07/2020  11:06             5,380 Timing code.ipynb\n",
      "01/07/2020  11:24           198,430 unzip_me_for_instructions.zip\n",
      "01/07/2020  11:22             3,718 unzipping and zipping file.ipynb\n",
      "              14 File(s)        302,443 bytes\n",
      "               5 Dir(s)  603,406,352,384 bytes free\n"
     ]
    }
   ],
   "source": [
    "ls"
   ]
  },
  {
   "cell_type": "code",
   "execution_count": 9,
   "metadata": {},
   "outputs": [],
   "source": [
    "file_to_unzip = \"unzip_me_for_instructions.zip\""
   ]
  },
  {
   "cell_type": "code",
   "execution_count": 10,
   "metadata": {},
   "outputs": [],
   "source": [
    "shutil.unpack_archive(file_to_unzip, output_filename, \"zip\")"
   ]
  },
  {
   "cell_type": "code",
   "execution_count": null,
   "metadata": {},
   "outputs": [],
   "source": []
  }
 ],
 "metadata": {
  "anaconda-cloud": {},
  "kernelspec": {
   "display_name": "Python 3",
   "language": "python",
   "name": "python3"
  },
  "language_info": {
   "codemirror_mode": {
    "name": "ipython",
    "version": 3
   },
   "file_extension": ".py",
   "mimetype": "text/x-python",
   "name": "python",
   "nbconvert_exporter": "python",
   "pygments_lexer": "ipython3",
   "version": "3.7.6"
  }
 },
 "nbformat": 4,
 "nbformat_minor": 2
}
