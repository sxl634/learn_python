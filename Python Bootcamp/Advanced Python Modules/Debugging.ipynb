{
 "cells": [
  {
   "cell_type": "code",
   "execution_count": 2,
   "metadata": {},
   "outputs": [],
   "source": [
    "x = [1,2,3]\n",
    "y=2\n",
    "z=3\n"
   ]
  },
  {
   "cell_type": "code",
   "execution_count": 3,
   "metadata": {},
   "outputs": [],
   "source": [
    "import pdb"
   ]
  },
  {
   "cell_type": "code",
   "execution_count": null,
   "metadata": {},
   "outputs": [
    {
     "name": "stdout",
     "output_type": "stream",
     "text": [
      "--Return--\n",
      "> <ipython-input-5-55a2fb1b7e3c>(7)<module>()->None\n",
      "-> pdb.set_trace()\n",
      "(Pdb) result_one\n",
      "5\n",
      "(Pdb) y\n",
      "2\n",
      "(Pdb) x\n",
      "[1, 2, 3]\n",
      "(Pdb) x+y\n",
      "*** TypeError: can only concatenate list (not \"int\") to list\n"
     ]
    }
   ],
   "source": [
    "x = [1,2,3]\n",
    "y=2\n",
    "z=3\n",
    "\n",
    "result_one = y+z\n",
    "\n",
    "pdb.set_trace()\n",
    "\n",
    "result_two = y+x"
   ]
  },
  {
   "cell_type": "code",
   "execution_count": null,
   "metadata": {},
   "outputs": [],
   "source": []
  }
 ],
 "metadata": {
  "kernelspec": {
   "display_name": "Python 3",
   "language": "python",
   "name": "python3"
  },
  "language_info": {
   "codemirror_mode": {
    "name": "ipython",
    "version": 3
   },
   "file_extension": ".py",
   "mimetype": "text/x-python",
   "name": "python",
   "nbconvert_exporter": "python",
   "pygments_lexer": "ipython3",
   "version": "3.7.6"
  }
 },
 "nbformat": 4,
 "nbformat_minor": 4
}
