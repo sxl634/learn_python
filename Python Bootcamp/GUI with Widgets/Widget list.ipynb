{
 "cells": [
  {
   "cell_type": "code",
   "execution_count": 1,
   "metadata": {},
   "outputs": [],
   "source": [
    "import ipywidgets as widgets"
   ]
  },
  {
   "cell_type": "code",
   "execution_count": 15,
   "metadata": {},
   "outputs": [
    {
     "name": "stdout",
     "output_type": "stream",
     "text": [
      "<class 'ipywidgets.widgets.widget_layout.Layout'>\n",
      "<class 'ipywidgets.widgets.widget_selectioncontainer.Accordion'>\n",
      "<class 'ipywidgets.widgets.widget_media.Audio'>\n",
      "<class 'ipywidgets.widgets.widget_float.BoundedFloatText'>\n",
      "<class 'ipywidgets.widgets.widget_int.BoundedIntText'>\n",
      "<class 'ipywidgets.widgets.widget_box.Box'>\n",
      "<class 'ipywidgets.widgets.widget_button.Button'>\n",
      "<class 'ipywidgets.widgets.widget_button.ButtonStyle'>\n",
      "<class 'ipywidgets.widgets.widget_bool.Checkbox'>\n",
      "<class 'ipywidgets.widgets.widget_color.ColorPicker'>\n",
      "<class 'ipywidgets.widgets.widget_string.Combobox'>\n",
      "<class 'ipywidgets.widgets.widget_controller.Axis'>\n",
      "<class 'ipywidgets.widgets.widget_controller.Button'>\n",
      "<class 'ipywidgets.widgets.widget_controller.Controller'>\n",
      "<class 'ipywidgets.widgets.widget_media._Media'>\n",
      "<class 'ipywidgets.widgets.widget_date.DatePicker'>\n",
      "<class 'ipywidgets.widgets.widget_description.DescriptionStyle'>\n",
      "<class 'ipywidgets.widgets.widget_link.DirectionalLink'>\n",
      "<class 'ipywidgets.widgets.widget_selection.Dropdown'>\n",
      "<class 'ipywidgets.widgets.widget_upload.FileUpload'>\n",
      "<class 'ipywidgets.widgets.widget_float.FloatLogSlider'>\n",
      "<class 'ipywidgets.widgets.widget_float.FloatProgress'>\n",
      "<class 'ipywidgets.widgets.widget_float.FloatRangeSlider'>\n",
      "<class 'ipywidgets.widgets.widget_float.FloatSlider'>\n",
      "<class 'ipywidgets.widgets.widget_float.FloatText'>\n",
      "<class 'ipywidgets.widgets.widget_box.GridBox'>\n",
      "<class 'ipywidgets.widgets.widget_box.HBox'>\n",
      "<class 'ipywidgets.widgets.widget_string.HTMLMath'>\n",
      "<class 'ipywidgets.widgets.widget_string.HTML'>\n",
      "<class 'ipywidgets.widgets.widget_media.Image'>\n",
      "<class 'ipywidgets.widgets.widget_int.IntProgress'>\n",
      "<class 'ipywidgets.widgets.widget_int.IntRangeSlider'>\n",
      "<class 'ipywidgets.widgets.widget_int.IntSlider'>\n",
      "<class 'ipywidgets.widgets.widget_int.IntText'>\n",
      "<class 'ipywidgets.widgets.widget_string.Label'>\n",
      "<class 'ipywidgets.widgets.widget_link.Link'>\n",
      "<class 'ipywidgets.widgets.widget_string.Password'>\n",
      "<class 'ipywidgets.widgets.widget_int.Play'>\n",
      "<class 'ipywidgets.widgets.widget_int.ProgressStyle'>\n",
      "<class 'ipywidgets.widgets.widget_selection.RadioButtons'>\n",
      "<class 'ipywidgets.widgets.widget_selection.Select'>\n",
      "<class 'ipywidgets.widgets.widget_selection.SelectMultiple'>\n",
      "<class 'ipywidgets.widgets.widget_selection.SelectionRangeSlider'>\n",
      "<class 'ipywidgets.widgets.widget_selection.SelectionSlider'>\n",
      "<class 'ipywidgets.widgets.widget_int.SliderStyle'>\n",
      "<class 'ipywidgets.widgets.widget_selectioncontainer.Tab'>\n",
      "<class 'ipywidgets.widgets.widget_string.Text'>\n",
      "<class 'ipywidgets.widgets.widget_string.Textarea'>\n",
      "<class 'ipywidgets.widgets.widget_bool.ToggleButton'>\n",
      "<class 'ipywidgets.widgets.widget_selection.ToggleButtons'>\n",
      "<class 'ipywidgets.widgets.widget_selection.ToggleButtonsStyle'>\n",
      "<class 'ipywidgets.widgets.widget_box.VBox'>\n",
      "<class 'ipywidgets.widgets.widget_bool.Valid'>\n",
      "<class 'ipywidgets.widgets.widget_media.Video'>\n",
      "<class 'ipywidgets.widgets.widget_output.Output'>\n"
     ]
    }
   ],
   "source": [
    "for item in widgets.Widget.widget_types.items():\n",
    "    print(item[1])"
   ]
  },
  {
   "cell_type": "markdown",
   "metadata": {},
   "source": [
    "Sliders"
   ]
  },
  {
   "cell_type": "code",
   "execution_count": 20,
   "metadata": {},
   "outputs": [
    {
     "data": {
      "application/vnd.jupyter.widget-view+json": {
       "model_id": "877c4d3af8e64453bfcd398bf1eba5b0",
       "version_major": 2,
       "version_minor": 0
      },
      "text/plain": [
       "IntSlider(value=7, continuous_update=False, description='Test: ', max=10)"
      ]
     },
     "metadata": {},
     "output_type": "display_data"
    }
   ],
   "source": [
    "widgets.IntSlider(\n",
    "    value = 7,\n",
    "    min=0,\n",
    "    max=10,\n",
    "    step=1,\n",
    "    description=\"Test: \",\n",
    "    disabled = False,\n",
    "    continuous_update=False,\n",
    "    orientation=\"horizontal\",\n",
    "    readout=True,\n",
    "    readout_format=\"d\"\n",
    ")"
   ]
  },
  {
   "cell_type": "code",
   "execution_count": 21,
   "metadata": {},
   "outputs": [
    {
     "data": {
      "application/vnd.jupyter.widget-view+json": {
       "model_id": "375c7956801e4b6d9ae415a754269930",
       "version_major": 2,
       "version_minor": 0
      },
      "text/plain": [
       "FloatSlider(value=7.5, continuous_update=False, description='Test: ', max=10.0, orientation='vertical', readou…"
      ]
     },
     "metadata": {},
     "output_type": "display_data"
    }
   ],
   "source": [
    "widgets.FloatSlider(\n",
    "    value = 7.5,\n",
    "    min=0,\n",
    "    max=10.0,\n",
    "    step=0.1,\n",
    "    description=\"Test: \",\n",
    "    disabled = False,\n",
    "    continuous_update=False,\n",
    "    orientation=\"vertical\",\n",
    "    readout=True,\n",
    "    readout_format=\".1f\"\n",
    ")"
   ]
  },
  {
   "cell_type": "code",
   "execution_count": 22,
   "metadata": {},
   "outputs": [
    {
     "data": {
      "application/vnd.jupyter.widget-view+json": {
       "model_id": "6bb0dc8b12254592b4f6fb46110127fd",
       "version_major": 2,
       "version_minor": 0
      },
      "text/plain": [
       "IntRangeSlider(value=(5, 7), continuous_update=False, description='Test: ', max=10)"
      ]
     },
     "metadata": {},
     "output_type": "display_data"
    }
   ],
   "source": [
    "widgets.IntRangeSlider(\n",
    "    value = [5,7],\n",
    "    min=0,\n",
    "    max=10,\n",
    "    step=1,\n",
    "    description=\"Test: \",\n",
    "    disabled = False,\n",
    "    continuous_update=False,\n",
    "    orientation=\"horizontal\",\n",
    "    readout=True,\n",
    "    readout_format=\"d\"\n",
    ")"
   ]
  },
  {
   "cell_type": "code",
   "execution_count": 26,
   "metadata": {},
   "outputs": [
    {
     "data": {
      "application/vnd.jupyter.widget-view+json": {
       "model_id": "2fec9d1e0f704dbfa604533f305c71b6",
       "version_major": 2,
       "version_minor": 0
      },
      "text/plain": [
       "FloatRangeSlider(value=(5.0, 7.0), continuous_update=False, description='Test: ', max=10.0, readout_format='.1…"
      ]
     },
     "metadata": {},
     "output_type": "display_data"
    }
   ],
   "source": [
    "widgets.FloatRangeSlider(\n",
    "    value = [5.0,7.0],\n",
    "    min=0.0,\n",
    "    max=10.0,\n",
    "    step=0.1,\n",
    "    description=\"Test: \",\n",
    "    disabled = False,\n",
    "    continuous_update=False,\n",
    "    orientation=\"horizontal\",\n",
    "    readout=True,\n",
    "    readout_format=\".1f\"\n",
    ")"
   ]
  },
  {
   "cell_type": "markdown",
   "metadata": {},
   "source": [
    "Progress bars"
   ]
  },
  {
   "cell_type": "code",
   "execution_count": 31,
   "metadata": {},
   "outputs": [
    {
     "data": {
      "application/vnd.jupyter.widget-view+json": {
       "model_id": "cbad93b0a0694462bb4be7a8d5c49518",
       "version_major": 2,
       "version_minor": 0
      },
      "text/plain": [
       "IntProgress(value=7, bar_style='danger', description='Loading: ', max=10)"
      ]
     },
     "metadata": {},
     "output_type": "display_data"
    }
   ],
   "source": [
    "widgets.IntProgress(\n",
    "    value = 7,\n",
    "    min=0,\n",
    "    max=10,\n",
    "    step=1,\n",
    "    description=\"Loading: \",\n",
    "    bar_style=\"danger\",# 'success', 'info', 'warning', 'danger' or ''\n",
    "    orientation = \"horizontal\"\n",
    ")"
   ]
  },
  {
   "cell_type": "code",
   "execution_count": 32,
   "metadata": {},
   "outputs": [
    {
     "data": {
      "application/vnd.jupyter.widget-view+json": {
       "model_id": "9c6b2ba0650f4615a3c60ce5e5d1f52e",
       "version_major": 2,
       "version_minor": 0
      },
      "text/plain": [
       "FloatProgress(value=7.5, bar_style='info', description='Loading: ', max=10.0)"
      ]
     },
     "metadata": {},
     "output_type": "display_data"
    }
   ],
   "source": [
    "widgets.FloatProgress(\n",
    "    value = 7.5,\n",
    "    min=0,\n",
    "    max=10.0,\n",
    "    step=0.1,\n",
    "    description=\"Loading: \",\n",
    "    bar_style=\"info\",# 'success', 'info', 'warning', 'danger' or ''\n",
    "    orientation = \"horizontal\"\n",
    ")"
   ]
  },
  {
   "cell_type": "markdown",
   "metadata": {},
   "source": [
    "Textbox with just numbers"
   ]
  },
  {
   "cell_type": "code",
   "execution_count": 33,
   "metadata": {},
   "outputs": [
    {
     "data": {
      "application/vnd.jupyter.widget-view+json": {
       "model_id": "ff3c86c8576b47359429afeb116dec38",
       "version_major": 2,
       "version_minor": 0
      },
      "text/plain": [
       "BoundedIntText(value=7, description='Text', max=10)"
      ]
     },
     "metadata": {},
     "output_type": "display_data"
    }
   ],
   "source": [
    "widgets.BoundedIntText(\n",
    "    value= 7,\n",
    "    min=0,\n",
    "    max=10,\n",
    "    step=1,\n",
    "    description=\"Text\",\n",
    "    disabled=False\n",
    ")"
   ]
  },
  {
   "cell_type": "code",
   "execution_count": 34,
   "metadata": {},
   "outputs": [
    {
     "data": {
      "application/vnd.jupyter.widget-view+json": {
       "model_id": "a1872d0e326e400f9e64d694ded5d0f0",
       "version_major": 2,
       "version_minor": 0
      },
      "text/plain": [
       "BoundedFloatText(value=7.5, description='Text', max=10.0, step=0.1)"
      ]
     },
     "metadata": {},
     "output_type": "display_data"
    }
   ],
   "source": [
    "widgets.BoundedFloatText(\n",
    "    value= 7.5,\n",
    "    min=0,\n",
    "    max=10.0,\n",
    "    step=0.1,\n",
    "    description=\"Text\",\n",
    "    disabled=False\n",
    ")"
   ]
  },
  {
   "cell_type": "code",
   "execution_count": 35,
   "metadata": {},
   "outputs": [
    {
     "data": {
      "application/vnd.jupyter.widget-view+json": {
       "model_id": "75a448482e9045ef9fb5a17a68a65159",
       "version_major": 2,
       "version_minor": 0
      },
      "text/plain": [
       "IntText(value=7, description='Any')"
      ]
     },
     "metadata": {},
     "output_type": "display_data"
    }
   ],
   "source": [
    "widgets.IntText(\n",
    "    value= 7,\n",
    "    description=\"Any\",\n",
    "    disabled=False\n",
    ")"
   ]
  },
  {
   "cell_type": "code",
   "execution_count": 36,
   "metadata": {},
   "outputs": [
    {
     "data": {
      "application/vnd.jupyter.widget-view+json": {
       "model_id": "85fbbc3ad63047ad821e6ec8b9b81111",
       "version_major": 2,
       "version_minor": 0
      },
      "text/plain": [
       "FloatText(value=7.67, description='Any')"
      ]
     },
     "metadata": {},
     "output_type": "display_data"
    }
   ],
   "source": [
    "widgets.FloatText(\n",
    "    value= 7.67,\n",
    "    description=\"Any\",\n",
    "    disabled=False\n",
    ")"
   ]
  },
  {
   "cell_type": "markdown",
   "metadata": {},
   "source": [
    "Boolean Widgets"
   ]
  },
  {
   "cell_type": "code",
   "execution_count": 39,
   "metadata": {},
   "outputs": [
    {
     "data": {
      "application/vnd.jupyter.widget-view+json": {
       "model_id": "1e706902f95c4ad3a3506986fd536da7",
       "version_major": 2,
       "version_minor": 0
      },
      "text/plain": [
       "ToggleButton(value=False, description='Click Me', icon='check', tooltip='Description')"
      ]
     },
     "metadata": {},
     "output_type": "display_data"
    }
   ],
   "source": [
    "widgets.ToggleButton(\n",
    "    value=False,\n",
    "    description=\"Click Me\",\n",
    "    disabled=False,\n",
    "    button_style=\"\", #'success', 'info', 'warning', 'danger' or ''\n",
    "    tooltip=\"Description\",\n",
    "    icon=\"check\"\n",
    ")"
   ]
  },
  {
   "cell_type": "code",
   "execution_count": 42,
   "metadata": {},
   "outputs": [
    {
     "data": {
      "application/vnd.jupyter.widget-view+json": {
       "model_id": "523c1861cb0b46418aea913ad3ec7f03",
       "version_major": 2,
       "version_minor": 0
      },
      "text/plain": [
       "Checkbox(value=False, description='Check Me')"
      ]
     },
     "metadata": {},
     "output_type": "display_data"
    }
   ],
   "source": [
    "widgets.Checkbox(\n",
    "    value=False,\n",
    "    description=\"Check Me\",\n",
    "    disabled=False\n",
    ")"
   ]
  },
  {
   "cell_type": "code",
   "execution_count": 44,
   "metadata": {},
   "outputs": [
    {
     "data": {
      "application/vnd.jupyter.widget-view+json": {
       "model_id": "20c1f15e5aa242f58860c7ba8b19d6f5",
       "version_major": 2,
       "version_minor": 0
      },
      "text/plain": [
       "Valid(value=True, description='Valid')"
      ]
     },
     "metadata": {},
     "output_type": "display_data"
    }
   ],
   "source": [
    "widgets.Valid(\n",
    "    value=True,\n",
    "    description=\"Valid\"\n",
    ")"
   ]
  },
  {
   "cell_type": "markdown",
   "metadata": {},
   "source": [
    "Selection widgets"
   ]
  },
  {
   "cell_type": "code",
   "execution_count": 46,
   "metadata": {},
   "outputs": [
    {
     "data": {
      "application/vnd.jupyter.widget-view+json": {
       "model_id": "8dc3ca186d1243dca8ae5b0805fa933d",
       "version_major": 2,
       "version_minor": 0
      },
      "text/plain": [
       "Dropdown(description='Number:', index=1, options=(1, 2, 3, 4, 5), value=2)"
      ]
     },
     "metadata": {},
     "output_type": "display_data"
    }
   ],
   "source": [
    "widgets.Dropdown(\n",
    "    options = [1,2,3,4,5],\n",
    "    value=2,\n",
    "    description=\"Number:\",\n",
    "    disabled = False\n",
    ")"
   ]
  },
  {
   "cell_type": "code",
   "execution_count": 47,
   "metadata": {},
   "outputs": [
    {
     "data": {
      "application/vnd.jupyter.widget-view+json": {
       "model_id": "1e86594c3fc44cdc8d540c8e7a81640b",
       "version_major": 2,
       "version_minor": 0
      },
      "text/plain": [
       "Dropdown(description='Number:', index=1, options={'One': 1, 'Two': 2, 'Three': 3}, value=2)"
      ]
     },
     "metadata": {},
     "output_type": "display_data"
    }
   ],
   "source": [
    "widgets.Dropdown(\n",
    "    options = {\"One\":1,\"Two\":2,\"Three\":3},\n",
    "    value=2,\n",
    "    description=\"Number:\",\n",
    "    disabled = False\n",
    ")"
   ]
  },
  {
   "cell_type": "code",
   "execution_count": 48,
   "metadata": {},
   "outputs": [
    {
     "data": {
      "application/vnd.jupyter.widget-view+json": {
       "model_id": "078cdc6294244576bc28e4814cef3ded",
       "version_major": 2,
       "version_minor": 0
      },
      "text/plain": [
       "RadioButtons(description='Number:', index=1, options=(1, 2, 3, 4, 5), value=2)"
      ]
     },
     "metadata": {},
     "output_type": "display_data"
    }
   ],
   "source": [
    "widgets.RadioButtons(\n",
    "    options = [1,2,3,4,5],\n",
    "    value=2,\n",
    "    description=\"Number:\",\n",
    "    disabled = False\n",
    ")"
   ]
  },
  {
   "cell_type": "code",
   "execution_count": 49,
   "metadata": {},
   "outputs": [
    {
     "data": {
      "application/vnd.jupyter.widget-view+json": {
       "model_id": "bba56b979e5b4894966da59e2884672a",
       "version_major": 2,
       "version_minor": 0
      },
      "text/plain": [
       "Select(description='Number:', index=1, options=(1, 2, 3, 4, 5), value=2)"
      ]
     },
     "metadata": {},
     "output_type": "display_data"
    }
   ],
   "source": [
    "widgets.Select(\n",
    "    options = [1,2,3,4,5],\n",
    "    value=2,\n",
    "    description=\"Number:\",\n",
    "    disabled = False\n",
    ")"
   ]
  },
  {
   "cell_type": "code",
   "execution_count": 50,
   "metadata": {},
   "outputs": [
    {
     "data": {
      "application/vnd.jupyter.widget-view+json": {
       "model_id": "c40d4c834f0a4acf9d7a477cb78ef585",
       "version_major": 2,
       "version_minor": 0
      },
      "text/plain": [
       "SelectionSlider(continuous_update=False, description='I like my eggs ...', options=('scrambled', 'sunny side u…"
      ]
     },
     "metadata": {},
     "output_type": "display_data"
    }
   ],
   "source": [
    "widgets.SelectionSlider(\n",
    "    options = [\"scrambled\",\"sunny side up\",\"poached\",\"soft boiled\",\"over easy\"],\n",
    "    value=\"scrambled\",\n",
    "    description=\"I like my eggs ...\",\n",
    "    disabled = False,\n",
    "    continuous_update = False,\n",
    "    orientation=\"horizontal\",\n",
    "    readout=True\n",
    ")"
   ]
  },
  {
   "cell_type": "markdown",
   "metadata": {},
   "source": [
    "Toggle Buttons"
   ]
  },
  {
   "cell_type": "code",
   "execution_count": 52,
   "metadata": {},
   "outputs": [
    {
     "data": {
      "application/vnd.jupyter.widget-view+json": {
       "model_id": "a9d969faf2724f349a5bc288c0cb93d5",
       "version_major": 2,
       "version_minor": 0
      },
      "text/plain": [
       "ToggleButtons(description='Speed: ', options=('Slow', 'Regular', 'Fast'), tooltips=('Description of slow', 'De…"
      ]
     },
     "metadata": {},
     "output_type": "display_data"
    }
   ],
   "source": [
    "widgets.ToggleButtons(\n",
    "    options = [\"Slow\",\"Regular\",\"Fast\"],\n",
    "    description=\"Speed: \",\n",
    "    disabled=False,\n",
    "    button_style=\"\", #'success', 'info', 'warning', 'danger' or ''\n",
    "    tooltips=[\"Description of slow\",\"Description of regular\",\"Description of fast\"],\n",
    "    #icon=[\"check\"]*3\n",
    ")"
   ]
  },
  {
   "cell_type": "markdown",
   "metadata": {},
   "source": [
    "Select multiple"
   ]
  },
  {
   "cell_type": "code",
   "execution_count": 54,
   "metadata": {},
   "outputs": [
    {
     "data": {
      "application/vnd.jupyter.widget-view+json": {
       "model_id": "56302f155bdb4dadb54816eded1f7617",
       "version_major": 2,
       "version_minor": 0
      },
      "text/plain": [
       "SelectMultiple(description='Numbers:', index=(1,), options=(1, 2, 3, 4, 5), value=(2,))"
      ]
     },
     "metadata": {},
     "output_type": "display_data"
    }
   ],
   "source": [
    "widgets.SelectMultiple(\n",
    "    options = [1,2,3,4,5],\n",
    "    value=[2],\n",
    "    description=\"Numbers:\",\n",
    "    disabled = False\n",
    ")"
   ]
  },
  {
   "cell_type": "markdown",
   "metadata": {},
   "source": [
    "String Widgets"
   ]
  },
  {
   "cell_type": "code",
   "execution_count": 55,
   "metadata": {},
   "outputs": [
    {
     "data": {
      "application/vnd.jupyter.widget-view+json": {
       "model_id": "e43b203bdbdc4352abb77fd30d6b7009",
       "version_major": 2,
       "version_minor": 0
      },
      "text/plain": [
       "Text(value='Hello World', description='String:', placeholder='Type something')"
      ]
     },
     "metadata": {},
     "output_type": "display_data"
    }
   ],
   "source": [
    "widgets.Text(\n",
    "    value=\"Hello World\",\n",
    "    placeholder=\"Type something\",\n",
    "    description=\"String:\",\n",
    "    disabled=False\n",
    ")"
   ]
  },
  {
   "cell_type": "code",
   "execution_count": 56,
   "metadata": {},
   "outputs": [
    {
     "data": {
      "application/vnd.jupyter.widget-view+json": {
       "model_id": "1616473f180848c38c7816e10a72b4d9",
       "version_major": 2,
       "version_minor": 0
      },
      "text/plain": [
       "Textarea(value='Hello World', description='String:', placeholder='Type something')"
      ]
     },
     "metadata": {},
     "output_type": "display_data"
    }
   ],
   "source": [
    "widgets.Textarea(\n",
    "    value=\"Hello World\",\n",
    "    placeholder=\"Type something\",\n",
    "    description=\"String:\",\n",
    "    disabled=False\n",
    ")"
   ]
  },
  {
   "cell_type": "code",
   "execution_count": 58,
   "metadata": {},
   "outputs": [
    {
     "data": {
      "application/vnd.jupyter.widget-view+json": {
       "model_id": "5f40573964bd46278b4e1b87c1050575",
       "version_major": 2,
       "version_minor": 0
      },
      "text/plain": [
       "HBox(children=(Label(value='The $m$ in $E=mc^2$:'), FloatSlider(value=0.0)))"
      ]
     },
     "metadata": {},
     "output_type": "display_data"
    }
   ],
   "source": [
    "widgets.HBox([\n",
    "    widgets.Label(value=\"The $m$ in $E=mc^2$:\"),\n",
    "    widgets.FloatSlider()\n",
    "])"
   ]
  },
  {
   "cell_type": "markdown",
   "metadata": {},
   "source": [
    "HTML"
   ]
  },
  {
   "cell_type": "code",
   "execution_count": 60,
   "metadata": {},
   "outputs": [
    {
     "data": {
      "application/vnd.jupyter.widget-view+json": {
       "model_id": "ebb29b412e06491ab5c55518320c7b58",
       "version_major": 2,
       "version_minor": 0
      },
      "text/plain": [
       "HTML(value='Hello <strong>World</strong>', description='Some HTML', placeholder='Some HTML')"
      ]
     },
     "metadata": {},
     "output_type": "display_data"
    }
   ],
   "source": [
    "widgets.HTML(\n",
    "    value=\"Hello <strong>World</strong>\",\n",
    "    placeholder=\"Some HTML\",\n",
    "    description=\"Some HTML\"\n",
    ")"
   ]
  },
  {
   "cell_type": "code",
   "execution_count": 63,
   "metadata": {},
   "outputs": [
    {
     "data": {
      "application/vnd.jupyter.widget-view+json": {
       "model_id": "cf3afb3af82f4f70ac7ec05654b1ea6c",
       "version_major": 2,
       "version_minor": 0
      },
      "text/plain": [
       "HTMLMath(value='Some math and <i>HTML</i>: \\\\(x^2\\\\) and $$\\\\frac{x+1}{x-1}$$', description='Some HTML', place…"
      ]
     },
     "metadata": {},
     "output_type": "display_data"
    }
   ],
   "source": [
    "widgets.HTMLMath(\n",
    "    value=r\"Some math and <i>HTML</i>: \\(x^2\\) and $$\\frac{x+1}{x-1}$$\",\n",
    "    placeholder=\"Some HTML\",\n",
    "    description=\"Some HTML\"\n",
    ")"
   ]
  },
  {
   "cell_type": "markdown",
   "metadata": {},
   "source": [
    "Image"
   ]
  },
  {
   "cell_type": "code",
   "execution_count": 68,
   "metadata": {},
   "outputs": [
    {
     "data": {
      "application/vnd.jupyter.widget-view+json": {
       "model_id": "fc033915a14445c18bb9c96450f03695",
       "version_major": 2,
       "version_minor": 0
      },
      "text/plain": [
       "Image(value=b'\\xff\\xd8\\xff\\xe0\\x00\\x10JFIF\\x00\\x01\\x01\\x01\\x00H\\x00H\\x00\\x00\\xff\\xdb\\x00\\x84\\x00\\x08\\x06\\x06\\x…"
      ]
     },
     "metadata": {},
     "output_type": "display_data"
    }
   ],
   "source": [
    "file=open(\"C:\\\\Users\\\\slong\\\\OneDrive\\\\Desktop\\\\Python\\\\Python Bootcamp\\\\images\\\\red_color.jpg\",\"rb\")\n",
    "image=file.read()\n",
    "file.close()\n",
    "widgets.Image(\n",
    "    value=image,\n",
    "    format=\"jpg\",\n",
    "    width=300,\n",
    "    height=400\n",
    ")"
   ]
  },
  {
   "cell_type": "code",
   "execution_count": 67,
   "metadata": {},
   "outputs": [],
   "source": [
    "widgets.Button(\n",
    "    description=\"Click me\",\n",
    "    disabled=False,\n",
    "    button_style=\"\", #'success', 'info', 'warning', 'danger' or ''\n",
    "    tool\n",
    ")"
   ]
  },
  {
   "cell_type": "code",
   "execution_count": null,
   "metadata": {},
   "outputs": [],
   "source": []
  }
 ],
 "metadata": {
  "kernelspec": {
   "display_name": "Python 3",
   "language": "python",
   "name": "python3"
  },
  "language_info": {
   "codemirror_mode": {
    "name": "ipython",
    "version": 3
   },
   "file_extension": ".py",
   "mimetype": "text/x-python",
   "name": "python",
   "nbconvert_exporter": "python",
   "pygments_lexer": "ipython3",
   "version": "3.7.6"
  }
 },
 "nbformat": 4,
 "nbformat_minor": 4
}
